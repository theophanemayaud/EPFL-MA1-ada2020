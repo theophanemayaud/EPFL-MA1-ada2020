{
 "cells": [
  {
   "cell_type": "markdown",
   "metadata": {},
   "source": [
    "# Homework 0 : verify _fivethirtyeight_ conclusions using the same dataset\n",
    "\n",
    "We will be focusing on the following statements made from the [dataset](https://github.com/fivethirtyeight/guns-data/blob/master/interactive_data.csv) :\n",
    "\n",
    "1. Nearly two-thirds of gun deaths are suicides.\n",
    "2. More than 85 percent of suicide victims are male.\n",
    "3. Around a third of all gun deaths are homicides.\n",
    "4. Around two-thirds of homicide victims who are males in the age-group of 15--34 are black.\n",
    "5. Women constitue only 15 percent of the total homicide victims.\n",
    "\n",
    "\n"
   ]
  },
  {
   "cell_type": "markdown",
   "metadata": {},
   "source": [
    "## Setting up our dataset"
   ]
  },
  {
   "cell_type": "markdown",
   "metadata": {},
   "source": [
    "### First we need to find a way to display tables in jupyternotebooks :\n",
    "\n",
    "From [this](https://stackoverflow.com/a/42323522/7360943):"
   ]
  },
  {
   "cell_type": "code",
   "execution_count": null,
   "metadata": {},
   "outputs": [],
   "source": [
    "from IPython.display import HTML, display\n",
    "import tabulate\n",
    "table = [[\"Sun\",696000,1989100000],\n",
    "         [\"Earth\",6371,5973.6],\n",
    "         [\"Moon\",1737,73.5],\n",
    "         [\"Mars\",3390,641.85]]\n",
    "display(HTML(tabulate.tabulate(table, tablefmt='html')))"
   ]
  },
  {
   "cell_type": "markdown",
   "metadata": {},
   "source": [
    "### Now we will figure out how to read csv into tables :\n",
    "\n",
    "From [this example](https://realpython.com/python-csv/), and knowing the columns are : \"Intent\",\"Gender\",\"Age\",\"Race\",\"Deaths\",\"Population\",\"Rate\"\n",
    "We use the for row loop, in order to fill an array with the row values :"
   ]
  },
  {
   "cell_type": "code",
   "execution_count": null,
   "metadata": {},
   "outputs": [],
   "source": [
    "import csv\n",
    "\n",
    "with open('deaths.csv', mode='r') as csv_file:\n",
    "    csv_reader = csv.DictReader(csv_file)\n",
    "    line_count = 0\n",
    "    deaths_table = [[\"Intent\",\"Gender\",\"Age\",\"Race\",\"Deaths\",\"Population\",\"Rate\"]]\n",
    "    INTENT = 0\n",
    "    GENDER = 1\n",
    "    AGE = 2\n",
    "    RACE = 3\n",
    "    DEATHS = 4\n",
    "    POPULATION = 5\n",
    "    RATE = 6\n",
    "    for row in csv_reader:\n",
    "        if line_count == 0:\n",
    "            print(f'Column names are {\", \".join(row)}')\n",
    "            line_count += 1\n",
    "        deaths_table.append([row[\"Intent\"],row[\"Gender\"],row[\"Age\"],row[\"Race\"],row[\"Deaths\"],row[\"Population\"],row[\"Rate\"]])\n",
    "        line_count += 1\n",
    "    print(f'Processed {line_count} lines.')"
   ]
  },
  {
   "cell_type": "markdown",
   "metadata": {},
   "source": [
    "Now we display (or not if it's too big a table) the results in an HTML table : "
   ]
  },
  {
   "cell_type": "code",
   "execution_count": null,
   "metadata": {},
   "outputs": [],
   "source": [
    "#display(HTML(tabulate.tabulate(deaths_table, tablefmt='html')))"
   ]
  },
  {
   "cell_type": "markdown",
   "metadata": {},
   "source": [
    "# Learning more about the data\n",
    "\n",
    "Through looking at the data, and discussions in class suggesting to look at [how the data is generated](https://github.com/fivethirtyeight/guns-data/blob/master/interactive_prep.R), we found out that when _None selected_ is input in a cell it actually means it is a dupplicate of the data with a specific value in the cell. To check this, we can sum all deaths with _None selected_ values, and compare to the sum of all the rest :"
   ]
  },
  {
   "cell_type": "code",
   "execution_count": null,
   "metadata": {},
   "outputs": [],
   "source": [
    "deaths_none_selected = 0\n",
    "deaths_except_none_selected = 0\n",
    "for death_row in deaths_table[1:]:\n",
    "    if death_row[INTENT] == \"None selected\":\n",
    "        deaths_none_selected+=int(death_row[DEATHS])\n",
    "    else:\n",
    "        deaths_except_none_selected+=int(death_row[DEATHS])\n",
    "print(f\"There are {deaths_none_selected} deaths with none selected as cause, and {deaths_except_none_selected} with causes selected\")"
   ]
  },
  {
   "cell_type": "markdown",
   "metadata": {},
   "source": [
    "We can see this is **almost exactly the same**. We could check for other columns as well. But not now."
   ]
  },
  {
   "cell_type": "markdown",
   "metadata": {},
   "source": [
    "## 1. Nearly two-thirds of gun deaths are suicides.\n",
    "\n",
    "We will now add up all deaths, and only those that are suicides to calculate the said ratio :"
   ]
  },
  {
   "cell_type": "code",
   "execution_count": null,
   "metadata": {},
   "outputs": [],
   "source": [
    "total_suicides = 0\n",
    "total_deaths = 0\n",
    "for death_row in deaths_table[1:]:\n",
    "    if death_row[INTENT] == \"Suicide\":\n",
    "        total_suicides+=int(death_row[DEATHS])\n",
    "    elif death_row[INTENT] == \"None selected\":\n",
    "        total_deaths+=int(death_row[DEATHS])\n",
    "        \n",
    "print(\"There were %d suicides for %d deaths in total\" %(total_suicides ,total_deaths)) #old print syntax which I like less\n",
    "print(f\"This makes the percent ratio be {round(100*total_suicides/total_deaths, 1)}%\")\n",
    "print(f\"Two thirds as they suggested makes {round(100*2/3, 1)} %\")"
   ]
  },
  {
   "cell_type": "markdown",
   "metadata": {},
   "source": [
    "We can see that indeed to a few percent difference, nearly two thirds of all gun deaths are suicides : \n",
    "\n",
    "_1. Nearly two-thirds of gun deaths are suicides._  ✅"
   ]
  },
  {
   "cell_type": "markdown",
   "metadata": {},
   "source": [
    "## 2. More than 85 percent of suicide victims are male.\n",
    "\n",
    "For this, we must count (already done above) all suicide victims, and those that are males in order to calculate the said ratio :"
   ]
  },
  {
   "cell_type": "code",
   "execution_count": null,
   "metadata": {},
   "outputs": [],
   "source": [
    "male_suicides = 0\n",
    "for death_row in deaths_table[1:]:\n",
    "    if death_row[INTENT] == \"Suicide\":\n",
    "        total_suicides+=int(death_row[DEATHS])\n",
    "    elif death_row[INTENT] == \"None selected\":\n",
    "        total_deaths+=int(death_row[DEATHS])"
   ]
  },
  {
   "cell_type": "code",
   "execution_count": null,
   "metadata": {},
   "outputs": [],
   "source": []
  }
 ],
 "metadata": {
  "kernelspec": {
   "display_name": "Python [conda env:root]",
   "language": "python",
   "name": "conda-root-py"
  },
  "language_info": {
   "codemirror_mode": {
    "name": "ipython",
    "version": 3
   },
   "file_extension": ".py",
   "mimetype": "text/x-python",
   "name": "python",
   "nbconvert_exporter": "python",
   "pygments_lexer": "ipython3",
   "version": "3.8.3"
  }
 },
 "nbformat": 4,
 "nbformat_minor": 4
}
