{
 "cells": [
  {
   "cell_type": "markdown",
   "metadata": {},
   "source": [
    "# Homework 0 : verify _fivethirtyeight_ conclusions using the same dataset\n",
    "\n",
    "We will be focusing on the following statements made from the [dataset](https://github.com/fivethirtyeight/guns-data/blob/master/interactive_data.csv) :\n",
    "\n",
    "1. Nearly two-thirds of gun deaths are suicides.\n",
    "2. More than 85 percent of suicide victims are male.\n",
    "3. Around a third of all gun deaths are homicides.\n",
    "4. Around two-thirds of homicide victims who are males in the age-group of 15--34 are black.\n",
    "5. Women constitue only 15 percent of the total homicide victims.\n",
    "\n",
    "\n"
   ]
  },
  {
   "cell_type": "markdown",
   "metadata": {},
   "source": [
    "## Setting up our dataset"
   ]
  },
  {
   "cell_type": "markdown",
   "metadata": {},
   "source": [
    "### First we need to find a way to display tables in jupyternotebooks :\n",
    "\n",
    "From [this](https://stackoverflow.com/a/42323522/7360943):"
   ]
  },
  {
   "cell_type": "code",
   "execution_count": 1,
   "metadata": {},
   "outputs": [
    {
     "data": {
      "text/html": [
       "<table>\n",
       "<tbody>\n",
       "<tr><td>Sun  </td><td style=\"text-align: right;\">696000</td><td style=\"text-align: right;\">   1.9891e+09</td></tr>\n",
       "<tr><td>Earth</td><td style=\"text-align: right;\">  6371</td><td style=\"text-align: right;\">5973.6       </td></tr>\n",
       "<tr><td>Moon </td><td style=\"text-align: right;\">  1737</td><td style=\"text-align: right;\">  73.5       </td></tr>\n",
       "<tr><td>Mars </td><td style=\"text-align: right;\">  3390</td><td style=\"text-align: right;\"> 641.85      </td></tr>\n",
       "</tbody>\n",
       "</table>"
      ],
      "text/plain": [
       "<IPython.core.display.HTML object>"
      ]
     },
     "metadata": {},
     "output_type": "display_data"
    }
   ],
   "source": [
    "from IPython.display import HTML, display\n",
    "import tabulate\n",
    "table = [[\"Sun\",696000,1989100000],\n",
    "         [\"Earth\",6371,5973.6],\n",
    "         [\"Moon\",1737,73.5],\n",
    "         [\"Mars\",3390,641.85]]\n",
    "display(HTML(tabulate.tabulate(table, tablefmt='html')))"
   ]
  },
  {
   "cell_type": "markdown",
   "metadata": {},
   "source": [
    "### Now we will figure out how to read csv into tables :\n",
    "\n",
    "From [this example](https://realpython.com/python-csv/), and knowing the columns are : \"Intent\",\"Gender\",\"Age\",\"Race\",\"Deaths\",\"Population\",\"Rate\"\n",
    "We use the for row loop, in order to fill an array with the row values :"
   ]
  },
  {
   "cell_type": "code",
   "execution_count": 2,
   "metadata": {},
   "outputs": [
    {
     "name": "stdout",
     "output_type": "stream",
     "text": [
      "Column names are , Intent, Gender, Age, Race, Deaths, Population, Rate\n",
      "Processed 541 lines.\n"
     ]
    }
   ],
   "source": [
    "import csv\n",
    "\n",
    "with open('deaths.csv', mode='r') as csv_file:\n",
    "    csv_reader = csv.DictReader(csv_file)\n",
    "    line_count = 0\n",
    "    deaths_table = [[\"Intent\",\"Gender\",\"Age\",\"Race\",\"Deaths\",\"Population\",\"Rate\"]]\n",
    "    INTENT = 0\n",
    "    GENDER = 1\n",
    "    AGE = 2\n",
    "    RACE = 3\n",
    "    DEATHS = 4\n",
    "    POPULATION = 5\n",
    "    RATE = 6\n",
    "    for row in csv_reader:\n",
    "        if line_count == 0:\n",
    "            print(f'Column names are {\", \".join(row)}')\n",
    "            line_count += 1\n",
    "        deaths_table.append([row[\"Intent\"],row[\"Gender\"],row[\"Age\"],row[\"Race\"],row[\"Deaths\"],row[\"Population\"],row[\"Rate\"]])\n",
    "        line_count += 1\n",
    "    print(f'Processed {line_count} lines.')"
   ]
  },
  {
   "cell_type": "markdown",
   "metadata": {},
   "source": [
    "Now we display (or not if it's too big a table) the results in an HTML table : "
   ]
  },
  {
   "cell_type": "code",
   "execution_count": 3,
   "metadata": {},
   "outputs": [],
   "source": [
    "#display(HTML(tabulate.tabulate(deaths_table, tablefmt='html')))"
   ]
  },
  {
   "cell_type": "markdown",
   "metadata": {},
   "source": [
    "# Learning more about the data\n",
    "\n",
    "Through looking at the data, and discussions in class suggesting to look at [how the data is generated](https://github.com/fivethirtyeight/guns-data/blob/master/interactive_prep.R), we found out that when _None selected_ is input in a cell it actually means it is a dupplicate of the data with a specific value in the cell. To check this, we can sum all deaths with _None selected_ values for all categories, and compare to the sum of all the rest with specific categories :"
   ]
  },
  {
   "cell_type": "code",
   "execution_count": 16,
   "metadata": {},
   "outputs": [
    {
     "name": "stdout",
     "output_type": "stream",
     "text": [
      "There are 33599 deaths with none selected as cause, and 33595 with causes selected\n"
     ]
    }
   ],
   "source": [
    "deaths_none_selected = 0\n",
    "deaths_except_none_selected = 0\n",
    "for death_row in deaths_table[1:]:\n",
    "    if death_row[INTENT:RACE+1] == [\"None selected\"]*4:\n",
    "        deaths_none_selected+=int(death_row[DEATHS])\n",
    "    elif all(cell != \"None selected\" for cell in death_row[INTENT:RACE+1]):\n",
    "        deaths_except_none_selected+=int(death_row[DEATHS])\n",
    "print(f\"There are {deaths_none_selected} deaths with none selected as cause, and {deaths_except_none_selected} with causes selected\")\n"
   ]
  },
  {
   "cell_type": "markdown",
   "metadata": {},
   "source": [
    "We can see this is **exactly the same**. We could check for other combinations as well and it should check out."
   ]
  },
  {
   "cell_type": "markdown",
   "metadata": {},
   "source": [
    "## 1. Nearly two-thirds of gun deaths are suicides.\n",
    "\n",
    "We will now add up all deaths, and only those that are suicides to calculate the said ratio :"
   ]
  },
  {
   "cell_type": "code",
   "execution_count": 18,
   "metadata": {},
   "outputs": [
    {
     "name": "stdout",
     "output_type": "stream",
     "text": [
      "There were 21058 suicides for 33599 deaths in total\n",
      "This makes the percent ratio be 62.7%\n",
      "Two thirds as they suggested makes 66.7 %\n"
     ]
    }
   ],
   "source": [
    "total_suicides = 0\n",
    "total_deaths = 0\n",
    "for death_row in deaths_table[1:]:\n",
    "    if death_row[INTENT] == \"Suicide\" and all( cell != \"None selected\" for cell in death_row[GENDER:RACE+1])  : #NB as per how the data was prepared this should only match one row\n",
    "        total_suicides+=int(death_row[DEATHS])\n",
    "    elif death_row[INTENT:RACE+1] == [\"None selected\"]*4:\n",
    "        total_deaths+=int(death_row[DEATHS])\n",
    "        \n",
    "print(\"There were %d suicides for %d deaths in total\" %(total_suicides ,total_deaths)) #old print syntax which I like less\n",
    "print(f\"This makes the percent ratio be {round(100*total_suicides/total_deaths, 1)}%\")\n",
    "print(f\"Two thirds as they suggested makes {round(100*2/3, 1)} %\")"
   ]
  },
  {
   "cell_type": "markdown",
   "metadata": {},
   "source": [
    "We can see that indeed to a few percent difference, nearly two thirds of all gun deaths are suicides : \n",
    "\n",
    ">1. Nearly two-thirds of gun deaths are suicides.  ✅"
   ]
  },
  {
   "cell_type": "markdown",
   "metadata": {},
   "source": [
    "## 2. More than 85 percent of suicide victims are male.\n",
    "\n",
    "For this, we must count (already done above) all suicide victims, and also only those that are males in order to calculate the said ratio :"
   ]
  },
  {
   "cell_type": "code",
   "execution_count": 20,
   "metadata": {},
   "outputs": [
    {
     "name": "stdout",
     "output_type": "stream",
     "text": [
      "We have 18162 male suicides, for 21058 suicides overall, making 86.2 %\n"
     ]
    }
   ],
   "source": [
    "male_suicides = 0\n",
    "for death_row in deaths_table[1:]:\n",
    "    if death_row[INTENT:RACE+1] == [\"Suicide\", \"Male\", \"None selected\", \"None selected\"]:\n",
    "        male_suicides+=int(death_row[DEATHS])\n",
    "print(f\"We have {male_suicides} male suicides, for {total_suicides} suicides overall, making {round(100*male_suicides/total_suicides,1)} %\")"
   ]
  },
  {
   "cell_type": "markdown",
   "metadata": {},
   "source": [
    "This value checks out with in fact being over 85% : \n",
    "\n",
    "> 2. More than 85 percent of suicide victims are male. ✅"
   ]
  },
  {
   "cell_type": "markdown",
   "metadata": {},
   "source": [
    "# 3. Around a third of all gun deaths are homicides.\n",
    "We can reuse all gun deaths we counted above, and we will now count only homicides, which is very simple and the same as counting only male victimes as before with the right selection :"
   ]
  },
  {
   "cell_type": "code",
   "execution_count": 22,
   "metadata": {},
   "outputs": [
    {
     "name": "stdout",
     "output_type": "stream",
     "text": [
      "We have 11726 homicide deaths, for 33599 deaths overall, making 34.9 %\n"
     ]
    }
   ],
   "source": [
    "homicide_deaths = 0\n",
    "for death_row in deaths_table[1:]:\n",
    "    if death_row[INTENT:RACE+1] == [\"Homicide\"] + 3*[\"None selected\"]:\n",
    "        homicide_deaths+=int(death_row[DEATHS])\n",
    "print(f\"We have {homicide_deaths} homicide deaths, for {total_deaths} deaths overall, making {round(100*homicide_deaths/total_deaths,1)} %\")"
   ]
  },
  {
   "cell_type": "markdown",
   "metadata": {},
   "source": [
    "This does make ~33.3% so the affirmation is correct :\n",
    "\n",
    "> 3. Around a third of all gun deaths are homicides. ✅"
   ]
  },
  {
   "cell_type": "markdown",
   "metadata": {},
   "source": [
    "# 4. Around two-thirds of homicide victims who are males in the age-group of 15--34 are black.\n",
    "\n",
    "We must count all male homicide victimes in age-group 15--34 then only those that are black :\n"
   ]
  },
  {
   "cell_type": "code",
   "execution_count": 31,
   "metadata": {},
   "outputs": [
    {
     "name": "stdout",
     "output_type": "stream",
     "text": [
      "We have 4312 black homicide victims in age-group 15 - 34, for 6520 homicide victims in age-group 15 - 34 deaths overall, making 66.1 %\n"
     ]
    }
   ],
   "source": [
    "male_homicide_victimes_15_34 = 0\n",
    "black_male_homicide_victimes_15_34 = 0\n",
    "for death_row in deaths_table[1:]:\n",
    "    if death_row[INTENT:RACE+1] == [\"Homicide\", \"Male\", \"15 - 34\"] + [\"None selected\"]:\n",
    "        male_homicide_victimes_15_34+=int(death_row[DEATHS])\n",
    "    elif death_row[INTENT:RACE+1] == [\"Homicide\", \"Male\", \"15 - 34\", \"Black\"]:\n",
    "        black_male_homicide_victimes_15_34+=int(death_row[DEATHS])\n",
    "print(f\"We have {black_male_homicide_victimes_15_34} black homicide victims in age-group 15 - 34, for {male_homicide_victimes_15_34} homicide victims in age-group 15 - 34 deaths overall, making {round(100*black_male_homicide_victimes_15_34/male_homicide_victimes_15_34,1)} %\")"
   ]
  },
  {
   "cell_type": "markdown",
   "metadata": {},
   "source": [
    "This does make very close to 66.6% which two thirds imply :\n",
    "\n",
    "> 4. Around two-thirds of homicide victims who are males in the age-group of 15--34 are black. ✅"
   ]
  },
  {
   "cell_type": "markdown",
   "metadata": {},
   "source": [
    "# 5. Women constitue only 15 percent of the total homicide victims.\n",
    "\n",
    "Now we need to calculate only women homicide deaths, reusing the previous total homicide deaths :"
   ]
  },
  {
   "cell_type": "markdown",
   "metadata": {},
   "source": [
    "We can actually make a function to more easily get values out of our list, which  would have simplified the whole of the previous cases as well."
   ]
  },
  {
   "cell_type": "code",
   "execution_count": 39,
   "metadata": {},
   "outputs": [],
   "source": [
    "def get_deaths_value(selector_list: list, deaths_table: list):\n",
    "    deaths_value = 0\n",
    "    for death_row in deaths_table[1:]:\n",
    "        if death_row[INTENT:RACE+1] == selector_list:\n",
    "            deaths_value+=int(death_row[DEATHS])\n",
    "    return deaths_value"
   ]
  },
  {
   "cell_type": "markdown",
   "metadata": {},
   "source": [
    "And use this function for requesting the women homicides :"
   ]
  },
  {
   "cell_type": "code",
   "execution_count": 44,
   "metadata": {},
   "outputs": [
    {
     "name": "stdout",
     "output_type": "stream",
     "text": [
      "We have 1791 women homicides, as opposed to 11726 homicides overall, which is a 15.3 % ratio\n"
     ]
    }
   ],
   "source": [
    "women_homicides = get_deaths_value([\"Homicide\", \"Female\", \"None selected\", \"None selected\"], deaths_table)\n",
    "print(f\"We have {women_homicides} women homicides, as opposed to {homicide_deaths} homicides overall, which is a {round(100*women_homicides/homicide_deaths,1)} % ratio\")"
   ]
  },
  {
   "cell_type": "markdown",
   "metadata": {},
   "source": [
    "This is indeed as stated :\n",
    "\n",
    "> 5. Women constitue only 15 percent of the total homicide victims. ✅ "
   ]
  },
  {
   "cell_type": "markdown",
   "metadata": {},
   "source": [
    "# Sum up and thoughts !\n",
    "\n",
    "We have found their statements to be correct, through our tedious work. Of course, it would be way more efficient to run through the whole list only once, as opposed to what we are doing here, running 5 for loops for each statement. Also, using the defined function for all verifications would improve readability and save page space.\n",
    "\n",
    "In the end, this was fun, and we did not use anymore tools than the standard python library ! Eeasy :D"
   ]
  },
  {
   "cell_type": "code",
   "execution_count": null,
   "metadata": {},
   "outputs": [],
   "source": []
  }
 ],
 "metadata": {
  "kernelspec": {
   "display_name": "Python [conda env:root]",
   "language": "python",
   "name": "conda-root-py"
  },
  "language_info": {
   "codemirror_mode": {
    "name": "ipython",
    "version": 3
   },
   "file_extension": ".py",
   "mimetype": "text/x-python",
   "name": "python",
   "nbconvert_exporter": "python",
   "pygments_lexer": "ipython3",
   "version": "3.8.3"
  }
 },
 "nbformat": 4,
 "nbformat_minor": 4
}
